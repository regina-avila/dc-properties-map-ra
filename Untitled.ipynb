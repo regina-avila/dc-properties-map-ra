{
 "cells": [
  {
   "cell_type": "code",
   "execution_count": 3,
   "metadata": {},
   "outputs": [
    {
     "ename": "ModuleNotFoundError",
     "evalue": "No module named 'dash_daq'",
     "output_type": "error",
     "traceback": [
      "\u001b[0;31m---------------------------------------------------------------------------\u001b[0m",
      "\u001b[0;31mModuleNotFoundError\u001b[0m                       Traceback (most recent call last)",
      "\u001b[0;32m<ipython-input-3-1e87c03b278e>\u001b[0m in \u001b[0;36m<module>\u001b[0;34m\u001b[0m\n\u001b[1;32m      6\u001b[0m \u001b[0;32mimport\u001b[0m \u001b[0mplotly\u001b[0m\u001b[0;34m.\u001b[0m\u001b[0mfigure_factory\u001b[0m \u001b[0;32mas\u001b[0m \u001b[0mff\u001b[0m\u001b[0;34m\u001b[0m\u001b[0;34m\u001b[0m\u001b[0m\n\u001b[1;32m      7\u001b[0m \u001b[0;32mimport\u001b[0m \u001b[0mpandas\u001b[0m \u001b[0;32mas\u001b[0m \u001b[0mpd\u001b[0m\u001b[0;34m\u001b[0m\u001b[0;34m\u001b[0m\u001b[0m\n\u001b[0;32m----> 8\u001b[0;31m \u001b[0;32mimport\u001b[0m \u001b[0mdash_daq\u001b[0m \u001b[0;32mas\u001b[0m \u001b[0mdaq\u001b[0m\u001b[0;34m\u001b[0m\u001b[0;34m\u001b[0m\u001b[0m\n\u001b[0m\u001b[1;32m      9\u001b[0m \u001b[0;34m\u001b[0m\u001b[0m\n\u001b[1;32m     10\u001b[0m \u001b[0;31m########### Define a few variables ######\u001b[0m\u001b[0;34m\u001b[0m\u001b[0;34m\u001b[0m\u001b[0;34m\u001b[0m\u001b[0m\n",
      "\u001b[0;31mModuleNotFoundError\u001b[0m: No module named 'dash_daq'"
     ]
    }
   ],
   "source": [
    "import dash\n",
    "import dash_core_components as dcc\n",
    "import dash_html_components as html\n",
    "import plotly.graph_objs as go\n",
    "from dash.dependencies import Input, Output, State\n",
    "import plotly.figure_factory as ff\n",
    "import pandas as pd\n",
    "import dash_daq as daq\n",
    "\n",
    "########### Define a few variables ######\n",
    "\n",
    "tabtitle = 'Dash DAQ'\n",
    "sourceurl = 'https://dash.plot.ly/dash-daq'\n",
    "sourceurl2 = 'https://dash.plot.ly/state'\n",
    "githublink = 'https://github.com/austinlasseter/dash-daq-state'\n",
    "\n",
    "########### Initiate the app\n",
    "external_stylesheets = ['https://codepen.io/chriddyp/pen/bWLwgP.css']\n",
    "app = dash.Dash(__name__, external_stylesheets=external_stylesheets)\n",
    "server = app.server\n",
    "app.title=tabtitle\n",
    "\n",
    "######### Define the figure\n",
    "\n",
    "x_list=['monkeys', 'bananas']\n",
    "y_list=[10,5]\n",
    "myfavoritecolor=['Tan', 'Yellow']\n",
    "mytitle='zoo time fun'\n",
    "\n",
    "mydata = [go.Bar(x=x_list,\n",
    "                y=y_list,\n",
    "                marker=dict(color=myfavoritecolor))]\n",
    "mylayout = go.Layout(\n",
    "    title = mytitle,\n",
    "    xaxis = dict(title = 'Labels go here!'),\n",
    "    yaxis = dict(title = 'Numbers go here!'))\n",
    "myfigure = go.Figure(data=mydata, layout=mylayout)\n",
    "\n",
    "\n",
    "########### Layout\n",
    "\n",
    "app.layout = html.Div(children=[\n",
    "    html.H1('This is the header'),\n",
    "    dcc.Graph(id='my-graph', figure=myfigure),\n",
    "\n",
    "    # Footer\n",
    "    html.Br(),\n",
    "    html.A('Code on Github', href=githublink),\n",
    "    html.Br(),\n",
    "    html.A(\"Data Source\", href=sourceurl),\n",
    "    html.Br(),\n",
    "    html.A(\"Data Source\", href=sourceurl2),\n",
    "    ]\n",
    ")\n",
    "\n",
    "########### Callback\n",
    "\n",
    "\n",
    "############ Deploy\n",
    "if __name__ == '__main__':\n",
    "    app.run_server(debug=True)\n"
   ]
  },
  {
   "cell_type": "code",
   "execution_count": null,
   "metadata": {},
   "outputs": [],
   "source": []
  }
 ],
 "metadata": {
  "kernelspec": {
   "display_name": "Python 3",
   "language": "python",
   "name": "python3"
  },
  "language_info": {
   "codemirror_mode": {
    "name": "ipython",
    "version": 3
   },
   "file_extension": ".py",
   "mimetype": "text/x-python",
   "name": "python",
   "nbconvert_exporter": "python",
   "pygments_lexer": "ipython3",
   "version": "3.7.3"
  }
 },
 "nbformat": 4,
 "nbformat_minor": 2
}
