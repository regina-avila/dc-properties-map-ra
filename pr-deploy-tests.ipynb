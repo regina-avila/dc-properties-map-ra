{
 "cells": [
  {
   "cell_type": "code",
   "execution_count": 42,
   "metadata": {},
   "outputs": [
    {
     "data": {
      "text/html": [
       "<div>\n",
       "<style scoped>\n",
       "    .dataframe tbody tr th:only-of-type {\n",
       "        vertical-align: middle;\n",
       "    }\n",
       "\n",
       "    .dataframe tbody tr th {\n",
       "        vertical-align: top;\n",
       "    }\n",
       "\n",
       "    .dataframe thead th {\n",
       "        text-align: right;\n",
       "    }\n",
       "</style>\n",
       "<table border=\"1\" class=\"dataframe\">\n",
       "  <thead>\n",
       "    <tr style=\"text-align: right;\">\n",
       "      <th></th>\n",
       "      <th>filename</th>\n",
       "      <th>latD</th>\n",
       "      <th>latM</th>\n",
       "      <th>latS</th>\n",
       "      <th>latH</th>\n",
       "      <th>lonD</th>\n",
       "      <th>lonM</th>\n",
       "      <th>lonS</th>\n",
       "      <th>lonH</th>\n",
       "      <th>date</th>\n",
       "      <th>latitude</th>\n",
       "      <th>longitude</th>\n",
       "    </tr>\n",
       "    <tr>\n",
       "      <th>Unnamed: 0</th>\n",
       "      <th></th>\n",
       "      <th></th>\n",
       "      <th></th>\n",
       "      <th></th>\n",
       "      <th></th>\n",
       "      <th></th>\n",
       "      <th></th>\n",
       "      <th></th>\n",
       "      <th></th>\n",
       "      <th></th>\n",
       "      <th></th>\n",
       "      <th></th>\n",
       "    </tr>\n",
       "  </thead>\n",
       "  <tbody>\n",
       "    <tr>\n",
       "      <th>108</th>\n",
       "      <td>IMG_0838.jpg</td>\n",
       "      <td>18</td>\n",
       "      <td>25</td>\n",
       "      <td>35.12</td>\n",
       "      <td>N</td>\n",
       "      <td>66</td>\n",
       "      <td>5</td>\n",
       "      <td>40.33</td>\n",
       "      <td>W</td>\n",
       "      <td>20180825</td>\n",
       "      <td>18.426422</td>\n",
       "      <td>-66.094536</td>\n",
       "    </tr>\n",
       "    <tr>\n",
       "      <th>109</th>\n",
       "      <td>IMG_0836.jpg</td>\n",
       "      <td>18</td>\n",
       "      <td>25</td>\n",
       "      <td>40.82</td>\n",
       "      <td>N</td>\n",
       "      <td>66</td>\n",
       "      <td>5</td>\n",
       "      <td>35.28</td>\n",
       "      <td>W</td>\n",
       "      <td>20180825</td>\n",
       "      <td>18.428006</td>\n",
       "      <td>-66.093133</td>\n",
       "    </tr>\n",
       "    <tr>\n",
       "      <th>110</th>\n",
       "      <td>IMG_0830.jpg</td>\n",
       "      <td>18</td>\n",
       "      <td>25</td>\n",
       "      <td>46.82</td>\n",
       "      <td>N</td>\n",
       "      <td>66</td>\n",
       "      <td>5</td>\n",
       "      <td>29.62</td>\n",
       "      <td>W</td>\n",
       "      <td>20180825</td>\n",
       "      <td>18.429672</td>\n",
       "      <td>-66.091561</td>\n",
       "    </tr>\n",
       "    <tr>\n",
       "      <th>111</th>\n",
       "      <td>IMG_0831.jpg</td>\n",
       "      <td>18</td>\n",
       "      <td>25</td>\n",
       "      <td>44.97</td>\n",
       "      <td>N</td>\n",
       "      <td>66</td>\n",
       "      <td>5</td>\n",
       "      <td>31.46</td>\n",
       "      <td>W</td>\n",
       "      <td>20180825</td>\n",
       "      <td>18.429158</td>\n",
       "      <td>-66.092072</td>\n",
       "    </tr>\n",
       "    <tr>\n",
       "      <th>112</th>\n",
       "      <td>IMG_0837.jpg</td>\n",
       "      <td>18</td>\n",
       "      <td>25</td>\n",
       "      <td>37.23</td>\n",
       "      <td>N</td>\n",
       "      <td>66</td>\n",
       "      <td>5</td>\n",
       "      <td>38.54</td>\n",
       "      <td>W</td>\n",
       "      <td>20180825</td>\n",
       "      <td>18.427008</td>\n",
       "      <td>-66.094039</td>\n",
       "    </tr>\n",
       "  </tbody>\n",
       "</table>\n",
       "</div>"
      ],
      "text/plain": [
       "                filename  latD  latM   latS latH  lonD  lonM   lonS lonH  \\\n",
       "Unnamed: 0                                                                 \n",
       "108         IMG_0838.jpg    18    25  35.12    N    66     5  40.33    W   \n",
       "109         IMG_0836.jpg    18    25  40.82    N    66     5  35.28    W   \n",
       "110         IMG_0830.jpg    18    25  46.82    N    66     5  29.62    W   \n",
       "111         IMG_0831.jpg    18    25  44.97    N    66     5  31.46    W   \n",
       "112         IMG_0837.jpg    18    25  37.23    N    66     5  38.54    W   \n",
       "\n",
       "                date   latitude  longitude  \n",
       "Unnamed: 0                                  \n",
       "108         20180825  18.426422 -66.094536  \n",
       "109         20180825  18.428006 -66.093133  \n",
       "110         20180825  18.429672 -66.091561  \n",
       "111         20180825  18.429158 -66.092072  \n",
       "112         20180825  18.427008 -66.094039  "
      ]
     },
     "execution_count": 42,
     "metadata": {},
     "output_type": "execute_result"
    }
   ],
   "source": [
    "import pandas as pd \n",
    "df = pd.read_csv('resources/hm_deploy_201808.csv', index_col='Unnamed: 0')\n",
    "df.tail()"
   ]
  },
  {
   "cell_type": "code",
   "execution_count": 46,
   "metadata": {},
   "outputs": [
    {
     "data": {
      "text/plain": [
       "dtype('int64')"
      ]
     },
     "execution_count": 46,
     "metadata": {},
     "output_type": "execute_result"
    }
   ],
   "source": [
    "df['date'].dtype"
   ]
  },
  {
   "cell_type": "code",
   "execution_count": 47,
   "metadata": {},
   "outputs": [
    {
     "data": {
      "text/plain": [
       "[20180823, 20180824, 20180825]"
      ]
     },
     "execution_count": 47,
     "metadata": {},
     "output_type": "execute_result"
    }
   ],
   "source": [
    "datelist=list(df['date'].value_counts().index)\n",
    "datelist"
   ]
  },
  {
   "cell_type": "code",
   "execution_count": 48,
   "metadata": {},
   "outputs": [
    {
     "name": "stdout",
     "output_type": "stream",
     "text": [
      "(113, 12)\n",
      "(55, 12)\n",
      "int64\n"
     ]
    }
   ],
   "source": [
    "print(df.shape)\n",
    "df1=df[df['date']==datelist[0]]\n",
    "\n",
    "print(df1.shape)\n",
    "print(df['date'].dtype)\n",
    "#print(df1['latitude'])"
   ]
  },
  {
   "cell_type": "code",
   "execution_count": null,
   "metadata": {},
   "outputs": [],
   "source": []
  }
 ],
 "metadata": {
  "kernelspec": {
   "display_name": "Python 3",
   "language": "python",
   "name": "python3"
  },
  "language_info": {
   "codemirror_mode": {
    "name": "ipython",
    "version": 3
   },
   "file_extension": ".py",
   "mimetype": "text/x-python",
   "name": "python",
   "nbconvert_exporter": "python",
   "pygments_lexer": "ipython3",
   "version": "3.7.3"
  }
 },
 "nbformat": 4,
 "nbformat_minor": 2
}
